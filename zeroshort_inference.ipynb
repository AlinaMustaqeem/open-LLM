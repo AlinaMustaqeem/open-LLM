{
  "nbformat": 4,
  "nbformat_minor": 0,
  "metadata": {
    "colab": {
      "provenance": [],
      "authorship_tag": "ABX9TyNYuVuaSoFiVnfDo1KDyRT2"
    },
    "kernelspec": {
      "name": "python3",
      "display_name": "Python 3"
    },
    "language_info": {
      "name": "python"
    }
  },
  "cells": [
    {
      "cell_type": "code",
      "source": [
        "from transformers import pipeline"
      ],
      "metadata": {
        "id": "gIt-oCokOI-D"
      },
      "execution_count": 3,
      "outputs": []
    },
    {
      "cell_type": "code",
      "execution_count": 19,
      "metadata": {
        "id": "F4HMJoyoNRdo"
      },
      "outputs": [],
      "source": [
        "class ZeroShotInference:\n",
        "    def __init__(self, task, pre_trained_model):\n",
        "        self.model = pre_trained_model\n",
        "        self.task = task\n",
        "        self.pipe = pipeline(task=self.task, model=self.model)\n",
        "\n",
        "    def classify_text(self, text, candidate_labels):\n",
        "        result = self.pipe(text, candidate_labels)\n",
        "        return result\n",
        "\n",
        "    def generate_text(self, prompt, max_length=100, temperature=0.7):\n",
        "        output = self.pipe(prompt, max_length=max_length, do_sample=True, temperature=temperature, truncation=True)\n",
        "        return output[0]['generated_text']\n"
      ]
    },
    {
      "cell_type": "code",
      "source": [
        "if __name__ == \"__main__\":\n",
        "    text = \"i love to play video games\"\n",
        "    candidate_labels = ['hobby', 'habit', 'adventure', 'boredom', 'business']\n",
        "    task = \"zero-shot-classification\"\n",
        "    model = \"facebook/bart-large-mnli\"\n",
        "\n",
        "    zero_short_inference = ZeroShotInference(task, model)\n",
        "    result = zero_short_inference.classify_text(text, candidate_labels)\n",
        "    print(result)"
      ],
      "metadata": {
        "colab": {
          "base_uri": "https://localhost:8080/"
        },
        "id": "756YwarbNwaI",
        "outputId": "ff902c20-9524-4af0-8dd2-cc628cb7970d"
      },
      "execution_count": 29,
      "outputs": [
        {
          "output_type": "stream",
          "name": "stdout",
          "text": [
            "{'sequence': 'i love to play video games', 'labels': ['hobby', 'habit', 'adventure', 'business', 'boredom'], 'scores': [0.8799885511398315, 0.09845343977212906, 0.016700521111488342, 0.0031407771166414022, 0.0017165272729471326]}\n"
          ]
        }
      ]
    },
    {
      "cell_type": "code",
      "source": [
        "prompt = \"i was doing coding last night\"\n",
        "model_2 = \"gpt2\"\n",
        "task_2 = \"text-generation\"\n",
        "zero_shot_infernece_2 = ZeroShotInference(task_2, model_2)\n",
        "result_2 = zero_shot_infernece_2.generate_text(prompt)\n",
        "print(result_2)"
      ],
      "metadata": {
        "colab": {
          "base_uri": "https://localhost:8080/"
        },
        "id": "Emgd9ZS1Ua-a",
        "outputId": "81945dd5-8c14-4975-e328-175b78790965"
      },
      "execution_count": 31,
      "outputs": [
        {
          "output_type": "stream",
          "name": "stdout",
          "text": [
            "i was doing coding last night. This morning I am going to be working on the next build to make it more workable. I'm not sure if I want to be a programmer myself or if I want to use the engine and make it easier for others to use.\n",
            "\n",
            "I am going to be using the engine to make things. I was doing coding last night. This morning I am going to be working on the next build to make it more workable. I'm not sure if\n"
          ]
        }
      ]
    },
    {
      "cell_type": "code",
      "source": [],
      "metadata": {
        "id": "BxtNWf07VP8q"
      },
      "execution_count": null,
      "outputs": []
    }
  ]
}